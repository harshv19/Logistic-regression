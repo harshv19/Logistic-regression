{
 "cells": [
  {
   "cell_type": "markdown",
   "metadata": {},
   "source": [
    "# Introduction"
   ]
  },
  {
   "cell_type": "markdown",
   "metadata": {},
   "source": [
    "Logistic Regression is a discriminative learning algorithm and seeks to:\n",
    "1. Model the probablity of an event occuring, depending on the values of <b> independent variables </b> which can be categorical or numerical.\n",
    "2. Estimate the probablity that an event occurs for a randomly selected observation versus the probablity that the event does not occur.\n",
    "<br>\n",
    "<b>Mathematically the probablity of datapoint belonging to class 1 is given by:-</b>\n"
   ]
  },
  {
   "cell_type": "markdown",
   "metadata": {},
   "source": [
    "1.$ P(class = 1 | features=X) = \\frac {P(feature =X | class= 1 )* P(class=C)}{P(feature=X | class = 1)*P(class=1) + P(feature=X | class = 2)*P(class=2)}   $"
   ]
  },
  {
   "cell_type": "markdown",
   "metadata": {},
   "source": [
    "2.$ P(class = 2 | features=X) = \\frac {P(feature =X | class= 2 )* P(class=2)}{P(feature=X | class = 1)*P(class=1) + P(feature=X | class = 2)*P(class=2)} $"
   ]
  },
  {
   "cell_type": "markdown",
   "metadata": {},
   "source": [
    " <b> from equation 1 & 2 </b> "
   ]
  },
  {
   "cell_type": "markdown",
   "metadata": {},
   "source": [
    "$ \\frac {P(class = 2 | feature = X)}{P(class = 1 | feature = X)} = \\frac{P(feature = X | class =2 )}{P(feature = X | class = 1)} $ "
   ]
  },
  {
   "cell_type": "markdown",
   "metadata": {},
   "source": [
    "<b> taking natural logarithm on both sides </b>\n",
    "<br>\n",
    "\n"
   ]
  },
  {
   "cell_type": "markdown",
   "metadata": {},
   "source": [
    "3.$\\ln (\\frac {P(class = 2 | feature = X)}{P(class = 1 | feature = X)}) = \\ln (\\frac{P(feature = X | class =2 )}{P(feature = X | class = 1)}) $"
   ]
  },
  {
   "cell_type": "markdown",
   "metadata": {},
   "source": [
    "<b> Assuming 'X' is coming from Gaussian Distribution RHS becomes </b>"
   ]
  },
  {
   "cell_type": "markdown",
   "metadata": {},
   "source": [
    "4.$\\ln( \\frac {e^-\\frac{ (X-\\hat\\mu_2)^2}{2(\\sigma_2)^2}}{e^-\\frac{ (X-\\hat\\mu_1)^2}{2(\\sigma_1)^2}})$ <br>\n",
    "\n",
    "Applying the assumption of Linear Discriminant Analysis (LDA)<br> $ \\sigma_1 = \\sigma_2 =\\sigma_p$"
   ]
  },
  {
   "cell_type": "markdown",
   "metadata": {},
   "source": [
    "on further simplification of equation 4 we get:\n",
    "\n",
    "$\\ln \\frac {P(class=2 | feature=X)}{P(class-1|feature=X)}=\\theta X + \\theta_0$"
   ]
  },
  {
   "cell_type": "markdown",
   "metadata": {},
   "source": [
    "Taking Antilog and putting P(class=1)= 1-P(class=2), we get:"
   ]
  },
  {
   "cell_type": "markdown",
   "metadata": {},
   "source": [
    " $P(class = 2 | features= X)= \\frac {1}{1+e^-(\\theta X + \\theta_0)}$\n",
    " "
   ]
  },
  {
   "cell_type": "markdown",
   "metadata": {},
   "source": [
    "The expression on right hand side is known as the <b> sigmoid function </b> and takes on the following graph."
   ]
  },
  {
   "cell_type": "code",
   "execution_count": 4,
   "metadata": {},
   "outputs": [],
   "source": [
    "import matplotlib.pyplot as plt\n",
    "import numpy as np"
   ]
  },
  {
   "cell_type": "code",
   "execution_count": 16,
   "metadata": {},
   "outputs": [],
   "source": [
    "def sigmoid (values):\n",
    "    curve= (1/(1+np.exp(-values)))\n",
    "    return curve"
   ]
  },
  {
   "cell_type": "code",
   "execution_count": 23,
   "metadata": {},
   "outputs": [
    {
     "data": {
      "text/plain": [
       "[<matplotlib.lines.Line2D at 0x9084830>]"
      ]
     },
     "execution_count": 23,
     "metadata": {},
     "output_type": "execute_result"
    },
    {
     "data": {
      "image/png": "[encoded data removed]",
      "text/plain": [
       "<Figure size 432x288 with 1 Axes>"
      ]
     },
     "metadata": {
      "needs_background": "light"
     },
     "output_type": "display_data"
    }
   ],
   "source": [
    "plt.plot(np.arange(-20,20),sigmoid(np.arange(-20,20)))"
   ]
  },
  {
   "cell_type": "markdown",
   "metadata": {},
   "source": [
    "### Loss Function\n",
    "Loss function for bi-class logistic regression is-<br>\n",
    "$L = -\\frac{1}{N}\\sum_{i=1}^{N}[y^i ln(H_i{(\\theta_0 , \\theta)}) + (1-y^i)ln(1-H_i({\\theta_0 , \\theta}))]$\n",
    "<br>\n",
    "Where H is Sigmoid function calculated for point $X^i$"
   ]
  },
  {
   "cell_type": "markdown",
   "metadata": {},
   "source": [
    "For multi-class Logistic Regression we use Softmax function instead of Sigmoid function as it is easier to plot one vs all classification boundaries instead of plotting one vs one boundary.<br>\n",
    "$\\large Softmax = {\\frac{e^{\\theta_{0}^{m} + \\theta^{mT}X^i}}{\\sum_{j=0}^{k}e^{\\theta_{0}^{j} + \\theta^{jT}X^i}}} $\n",
    "<br>\n",
    "(for k classes)"
   ]
  },
  {
   "cell_type": "code",
   "execution_count": null,
   "metadata": {},
   "outputs": [],
   "source": []
  }
 ],
 "metadata": {
  "kernelspec": {
   "display_name": "Python 3",
   "language": "python",
   "name": "python3"
  },
  "language_info": {
   "codemirror_mode": {
    "name": "ipython",
    "version": 3
   },
   "file_extension": ".py",
   "mimetype": "text/x-python",
   "name": "python",
   "nbconvert_exporter": "python",
   "pygments_lexer": "ipython3",
   "version": "3.7.3"
  }
 },
 "nbformat": 4,
 "nbformat_minor": 2
}
